{
 "cells": [
  {
   "cell_type": "markdown",
   "metadata": {},
   "source": [
    "## Knit Design: Privacy policy\n",
    "\n",
    "Welcome to the Knit Design app for Android!\n",
    "\n",
    "This is an Android app developed by Giorgio Benedetto. The app is available on Google Play.\n",
    "\n",
    "I take privacy very seriously.\n",
    "I know how irritating it is when apps collect your data without your knowledge.\n",
    "\n",
    "I hereby state, to the best of my knowledge and belief, that I have not programmed this app to collect any personally identifiable information. All data created by the you (the user) is stored on your device only, and can be simply erased by clearing the app's data or uninstalling it.\n",
    "\n",
    "### Explanation of permissions requested in the app\n",
    "-----------------------------\n",
    "\n",
    "The app does note require any permission in the `AndroidManifest.xml` file.\n",
    "\n",
    "If you have any question regarding how the app protectes your privacy, please send me an email or post a discussion on GitHub, and I will surely try to fix it/help you.\n",
    "\n",
    "Yours sincerely,  \n",
    "Giorgio Benedetto\n",
    "giorgio94.benedetto@gmail.com\n"
   ]
  }
 ],
 "metadata": {
  "language_info": {
   "name": "python"
  }
 },
 "nbformat": 4,
 "nbformat_minor": 2
}
